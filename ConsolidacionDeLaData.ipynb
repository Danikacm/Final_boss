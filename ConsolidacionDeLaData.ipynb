{
 "cells": [
  {
   "cell_type": "markdown",
   "metadata": {},
   "source": [
    "# Lectura de los diferentes archivos que representan la base de datos en su totalidad"
   ]
  },
  {
   "cell_type": "markdown",
   "metadata": {},
   "source": [
    "## Archivos (path): \n",
    "### Conjunto 1\n",
    "#### Descripcion de este conjunto\n",
    "1.Nombre (PATH) \n",
    "### Conjunto2\n",
    "#### Descripcion de este conjunto\n",
    "1.Nombre (PATH)\n",
    "### ConjuntoN\n",
    "#### Descripcion de este conjunto\n",
    "1.Nombre (PATH)"
   ]
  },
  {
   "cell_type": "markdown",
   "metadata": {},
   "source": [
    "### Importacion de las librerias"
   ]
  },
  {
   "cell_type": "code",
   "execution_count": 17,
   "metadata": {},
   "outputs": [],
   "source": [
    "import pandas as pd"
   ]
  },
  {
   "cell_type": "markdown",
   "metadata": {},
   "source": [
    "### Lectura de los archivos\n",
    "#### PATH base (C:\\Users\\danie\\OneDrive\\Escritorio\\bases\\DataBases\\original)"
   ]
  },
  {
   "cell_type": "code",
   "execution_count": 18,
   "metadata": {},
   "outputs": [
    {
     "name": "stderr",
     "output_type": "stream",
     "text": [
      "C:\\Users\\danie\\AppData\\Local\\Temp\\ipykernel_2788\\3747413543.py:6: DtypeWarning: Columns (1,7) have mixed types. Specify dtype option on import or set low_memory=False.\n",
      "  df_bd_integrada = pd.read_csv(r\"C:\\Users\\danie\\OneDrive\\Escritorio\\bases\\FinalBoss\\DataBases\\original\\base_integrada.csv\")\n"
     ]
    }
   ],
   "source": [
    "path_base = \"C:/Users/danie/OneDrive/Escritorio/bases/DataBases/original\"\n",
    "df_name_2021 = pd.read_excel(r\"C:\\Users\\danie\\OneDrive\\Escritorio\\bases\\FinalBoss\\DataBases\\original\\2021.xlsx\")\n",
    "df_name_2022 = pd.read_excel(r\"C:\\Users\\danie\\OneDrive\\Escritorio\\bases\\FinalBoss\\DataBases\\original\\2022.xlsx\")\n",
    "df_name_2023 = pd.read_excel(r\"C:\\Users\\danie\\OneDrive\\Escritorio\\bases\\FinalBoss\\DataBases\\original\\2023.xlsx\")\n",
    "df_name_2024 = pd.read_excel(r\"C:\\Users\\danie\\OneDrive\\Escritorio\\bases\\FinalBoss\\DataBases\\original\\2024.xlsx\")\n",
    "df_bd_integrada = pd.read_csv(r\"C:\\Users\\danie\\OneDrive\\Escritorio\\bases\\FinalBoss\\DataBases\\original\\base_integrada.csv\")\n",
    "df_bd_grados = pd.read_excel(r\"C:\\Users\\danie\\OneDrive\\Escritorio\\bases\\FinalBoss\\DataBases\\original\\Basededatosgrados.xlsx\")\n"
   ]
  },
  {
   "cell_type": "markdown",
   "metadata": {},
   "source": [
    "Ejemplo de importacion de variables desde afuera del notebook\n",
    "\n",
    "import nbimporter\n",
    "import notebook1\n",
    "\n",
    "print(notebook1.mi_variable)  # Resultado: ¡Hola desde Notebook 1!\n"
   ]
  },
  {
   "cell_type": "code",
   "execution_count": null,
   "metadata": {},
   "outputs": [],
   "source": []
  }
 ],
 "metadata": {
  "kernelspec": {
   "display_name": ".venv",
   "language": "python",
   "name": "python3"
  },
  "language_info": {
   "codemirror_mode": {
    "name": "ipython",
    "version": 3
   },
   "file_extension": ".py",
   "mimetype": "text/x-python",
   "name": "python",
   "nbconvert_exporter": "python",
   "pygments_lexer": "ipython3",
   "version": "3.13.1"
  }
 },
 "nbformat": 4,
 "nbformat_minor": 2
}
